{
  "nbformat": 4,
  "nbformat_minor": 0,
  "metadata": {
    "kernelspec": {
      "name": "python3",
      "display_name": "Python 3"
    },
    "colab": {
      "name": "4_join.ipynb",
      "provenance": [],
      "include_colab_link": true
    }
  },
  "cells": [
    {
      "cell_type": "markdown",
      "metadata": {
        "id": "view-in-github",
        "colab_type": "text"
      },
      "source": [
        "<a href=\"https://colab.research.google.com/github/guptasamz/CS_6376_Hybrid_Embedded_Sys/blob/main/4_join.ipynb\" target=\"_parent\"><img src=\"https://colab.research.google.com/assets/colab-badge.svg\" alt=\"Open In Colab\"/></a>"
      ]
    },
    {
      "cell_type": "code",
      "metadata": {
        "id": "4SGidc-REbRl"
      },
      "source": [
        "#to solve this go and read the class lecture on map reduce where we discussed a trivial join example.\n",
        "#here the join key is playerid and year id"
      ],
      "execution_count": 1,
      "outputs": []
    },
    {
      "cell_type": "code",
      "metadata": {
        "pycharm": {
          "name": "#%%\n"
        },
        "id": "4jMl8PIQaQJ-",
        "colab": {
          "base_uri": "https://localhost:8080/"
        },
        "outputId": "c3a8972e-ac65-4448-8897-486375afcdad"
      },
      "source": [
        "#install mrjob\n",
        "!pip install mrjob"
      ],
      "execution_count": 1,
      "outputs": [
        {
          "output_type": "stream",
          "name": "stdout",
          "text": [
            "Looking in indexes: https://pypi.org/simple, https://us-python.pkg.dev/colab-wheels/public/simple/\n",
            "Collecting mrjob\n",
            "  Downloading mrjob-0.7.4-py2.py3-none-any.whl (439 kB)\n",
            "\u001b[2K     \u001b[90m━━━━━━━━━━━━━━━━━━━━━━━━━━━━━━━━━━━━━━━\u001b[0m \u001b[32m439.6/439.6 KB\u001b[0m \u001b[31m5.6 MB/s\u001b[0m eta \u001b[36m0:00:00\u001b[0m\n",
            "\u001b[?25hRequirement already satisfied: PyYAML>=3.10 in /usr/local/lib/python3.9/dist-packages (from mrjob) (6.0)\n",
            "Installing collected packages: mrjob\n",
            "Successfully installed mrjob-0.7.4\n"
          ]
        }
      ]
    },
    {
      "cell_type": "code",
      "metadata": {
        "pycharm": {
          "name": "#%%\n"
        },
        "id": "8kzp9KrSaQJ-",
        "colab": {
          "base_uri": "https://localhost:8080/",
          "height": 142
        },
        "outputId": "12d5de49-8899-41f8-9984-f8f107a3b8cc"
      },
      "source": [
        "from google.colab import files\n",
        "\n",
        "# upload dataset\n",
        "uploaded = files.upload()\n",
        "for fn in uploaded.keys():\n",
        "  print('User uploaded file \"{name}\" with length {length} bytes'.format(\n",
        "      name=fn, length=len(uploaded[fn])))"
      ],
      "execution_count": 2,
      "outputs": [
        {
          "output_type": "display_data",
          "data": {
            "text/plain": [
              "<IPython.core.display.HTML object>"
            ],
            "text/html": [
              "\n",
              "     <input type=\"file\" id=\"files-1d59896a-071f-4279-bbbd-f3f96e66ba64\" name=\"files[]\" multiple disabled\n",
              "        style=\"border:none\" />\n",
              "     <output id=\"result-1d59896a-071f-4279-bbbd-f3f96e66ba64\">\n",
              "      Upload widget is only available when the cell has been executed in the\n",
              "      current browser session. Please rerun this cell to enable.\n",
              "      </output>\n",
              "      <script>// Copyright 2017 Google LLC\n",
              "//\n",
              "// Licensed under the Apache License, Version 2.0 (the \"License\");\n",
              "// you may not use this file except in compliance with the License.\n",
              "// You may obtain a copy of the License at\n",
              "//\n",
              "//      http://www.apache.org/licenses/LICENSE-2.0\n",
              "//\n",
              "// Unless required by applicable law or agreed to in writing, software\n",
              "// distributed under the License is distributed on an \"AS IS\" BASIS,\n",
              "// WITHOUT WARRANTIES OR CONDITIONS OF ANY KIND, either express or implied.\n",
              "// See the License for the specific language governing permissions and\n",
              "// limitations under the License.\n",
              "\n",
              "/**\n",
              " * @fileoverview Helpers for google.colab Python module.\n",
              " */\n",
              "(function(scope) {\n",
              "function span(text, styleAttributes = {}) {\n",
              "  const element = document.createElement('span');\n",
              "  element.textContent = text;\n",
              "  for (const key of Object.keys(styleAttributes)) {\n",
              "    element.style[key] = styleAttributes[key];\n",
              "  }\n",
              "  return element;\n",
              "}\n",
              "\n",
              "// Max number of bytes which will be uploaded at a time.\n",
              "const MAX_PAYLOAD_SIZE = 100 * 1024;\n",
              "\n",
              "function _uploadFiles(inputId, outputId) {\n",
              "  const steps = uploadFilesStep(inputId, outputId);\n",
              "  const outputElement = document.getElementById(outputId);\n",
              "  // Cache steps on the outputElement to make it available for the next call\n",
              "  // to uploadFilesContinue from Python.\n",
              "  outputElement.steps = steps;\n",
              "\n",
              "  return _uploadFilesContinue(outputId);\n",
              "}\n",
              "\n",
              "// This is roughly an async generator (not supported in the browser yet),\n",
              "// where there are multiple asynchronous steps and the Python side is going\n",
              "// to poll for completion of each step.\n",
              "// This uses a Promise to block the python side on completion of each step,\n",
              "// then passes the result of the previous step as the input to the next step.\n",
              "function _uploadFilesContinue(outputId) {\n",
              "  const outputElement = document.getElementById(outputId);\n",
              "  const steps = outputElement.steps;\n",
              "\n",
              "  const next = steps.next(outputElement.lastPromiseValue);\n",
              "  return Promise.resolve(next.value.promise).then((value) => {\n",
              "    // Cache the last promise value to make it available to the next\n",
              "    // step of the generator.\n",
              "    outputElement.lastPromiseValue = value;\n",
              "    return next.value.response;\n",
              "  });\n",
              "}\n",
              "\n",
              "/**\n",
              " * Generator function which is called between each async step of the upload\n",
              " * process.\n",
              " * @param {string} inputId Element ID of the input file picker element.\n",
              " * @param {string} outputId Element ID of the output display.\n",
              " * @return {!Iterable<!Object>} Iterable of next steps.\n",
              " */\n",
              "function* uploadFilesStep(inputId, outputId) {\n",
              "  const inputElement = document.getElementById(inputId);\n",
              "  inputElement.disabled = false;\n",
              "\n",
              "  const outputElement = document.getElementById(outputId);\n",
              "  outputElement.innerHTML = '';\n",
              "\n",
              "  const pickedPromise = new Promise((resolve) => {\n",
              "    inputElement.addEventListener('change', (e) => {\n",
              "      resolve(e.target.files);\n",
              "    });\n",
              "  });\n",
              "\n",
              "  const cancel = document.createElement('button');\n",
              "  inputElement.parentElement.appendChild(cancel);\n",
              "  cancel.textContent = 'Cancel upload';\n",
              "  const cancelPromise = new Promise((resolve) => {\n",
              "    cancel.onclick = () => {\n",
              "      resolve(null);\n",
              "    };\n",
              "  });\n",
              "\n",
              "  // Wait for the user to pick the files.\n",
              "  const files = yield {\n",
              "    promise: Promise.race([pickedPromise, cancelPromise]),\n",
              "    response: {\n",
              "      action: 'starting',\n",
              "    }\n",
              "  };\n",
              "\n",
              "  cancel.remove();\n",
              "\n",
              "  // Disable the input element since further picks are not allowed.\n",
              "  inputElement.disabled = true;\n",
              "\n",
              "  if (!files) {\n",
              "    return {\n",
              "      response: {\n",
              "        action: 'complete',\n",
              "      }\n",
              "    };\n",
              "  }\n",
              "\n",
              "  for (const file of files) {\n",
              "    const li = document.createElement('li');\n",
              "    li.append(span(file.name, {fontWeight: 'bold'}));\n",
              "    li.append(span(\n",
              "        `(${file.type || 'n/a'}) - ${file.size} bytes, ` +\n",
              "        `last modified: ${\n",
              "            file.lastModifiedDate ? file.lastModifiedDate.toLocaleDateString() :\n",
              "                                    'n/a'} - `));\n",
              "    const percent = span('0% done');\n",
              "    li.appendChild(percent);\n",
              "\n",
              "    outputElement.appendChild(li);\n",
              "\n",
              "    const fileDataPromise = new Promise((resolve) => {\n",
              "      const reader = new FileReader();\n",
              "      reader.onload = (e) => {\n",
              "        resolve(e.target.result);\n",
              "      };\n",
              "      reader.readAsArrayBuffer(file);\n",
              "    });\n",
              "    // Wait for the data to be ready.\n",
              "    let fileData = yield {\n",
              "      promise: fileDataPromise,\n",
              "      response: {\n",
              "        action: 'continue',\n",
              "      }\n",
              "    };\n",
              "\n",
              "    // Use a chunked sending to avoid message size limits. See b/62115660.\n",
              "    let position = 0;\n",
              "    do {\n",
              "      const length = Math.min(fileData.byteLength - position, MAX_PAYLOAD_SIZE);\n",
              "      const chunk = new Uint8Array(fileData, position, length);\n",
              "      position += length;\n",
              "\n",
              "      const base64 = btoa(String.fromCharCode.apply(null, chunk));\n",
              "      yield {\n",
              "        response: {\n",
              "          action: 'append',\n",
              "          file: file.name,\n",
              "          data: base64,\n",
              "        },\n",
              "      };\n",
              "\n",
              "      let percentDone = fileData.byteLength === 0 ?\n",
              "          100 :\n",
              "          Math.round((position / fileData.byteLength) * 100);\n",
              "      percent.textContent = `${percentDone}% done`;\n",
              "\n",
              "    } while (position < fileData.byteLength);\n",
              "  }\n",
              "\n",
              "  // All done.\n",
              "  yield {\n",
              "    response: {\n",
              "      action: 'complete',\n",
              "    }\n",
              "  };\n",
              "}\n",
              "\n",
              "scope.google = scope.google || {};\n",
              "scope.google.colab = scope.google.colab || {};\n",
              "scope.google.colab._files = {\n",
              "  _uploadFiles,\n",
              "  _uploadFilesContinue,\n",
              "};\n",
              "})(self);\n",
              "</script> "
            ]
          },
          "metadata": {}
        },
        {
          "output_type": "stream",
          "name": "stdout",
          "text": [
            "Saving Batting.csv to Batting.csv\n",
            "Saving Salaries.csv to Salaries.csv\n",
            "User uploaded file \"Batting.csv\" with length 6488747 bytes\n",
            "User uploaded file \"Salaries.csv\" with length 700024 bytes\n"
          ]
        }
      ]
    },
    {
      "cell_type": "code",
      "metadata": {
        "pycharm": {
          "name": "#%%\n"
        },
        "id": "5gO67ZaRaQJ-",
        "colab": {
          "base_uri": "https://localhost:8080/",
          "height": 38
        },
        "outputId": "1f59b6da-6839-49f0-d9ce-0a9c916fd0bf"
      },
      "source": [
        "from google.colab import files\n",
        "\n",
        "# upload mrjob.conf under current directory(/content/mrjob.conf)\n",
        "uploaded = files.upload()\n",
        "for fn in uploaded.keys():\n",
        "  print('User uploaded file \"{name}\" with length {length} bytes'.format(\n",
        "      name=fn, length=len(uploaded[fn])))"
      ],
      "execution_count": 4,
      "outputs": [
        {
          "output_type": "display_data",
          "data": {
            "text/plain": [
              "<IPython.core.display.HTML object>"
            ],
            "text/html": [
              "\n",
              "     <input type=\"file\" id=\"files-29e48bf4-c8f5-4f8c-ad19-3baeccb12c0a\" name=\"files[]\" multiple disabled\n",
              "        style=\"border:none\" />\n",
              "     <output id=\"result-29e48bf4-c8f5-4f8c-ad19-3baeccb12c0a\">\n",
              "      Upload widget is only available when the cell has been executed in the\n",
              "      current browser session. Please rerun this cell to enable.\n",
              "      </output>\n",
              "      <script>// Copyright 2017 Google LLC\n",
              "//\n",
              "// Licensed under the Apache License, Version 2.0 (the \"License\");\n",
              "// you may not use this file except in compliance with the License.\n",
              "// You may obtain a copy of the License at\n",
              "//\n",
              "//      http://www.apache.org/licenses/LICENSE-2.0\n",
              "//\n",
              "// Unless required by applicable law or agreed to in writing, software\n",
              "// distributed under the License is distributed on an \"AS IS\" BASIS,\n",
              "// WITHOUT WARRANTIES OR CONDITIONS OF ANY KIND, either express or implied.\n",
              "// See the License for the specific language governing permissions and\n",
              "// limitations under the License.\n",
              "\n",
              "/**\n",
              " * @fileoverview Helpers for google.colab Python module.\n",
              " */\n",
              "(function(scope) {\n",
              "function span(text, styleAttributes = {}) {\n",
              "  const element = document.createElement('span');\n",
              "  element.textContent = text;\n",
              "  for (const key of Object.keys(styleAttributes)) {\n",
              "    element.style[key] = styleAttributes[key];\n",
              "  }\n",
              "  return element;\n",
              "}\n",
              "\n",
              "// Max number of bytes which will be uploaded at a time.\n",
              "const MAX_PAYLOAD_SIZE = 100 * 1024;\n",
              "\n",
              "function _uploadFiles(inputId, outputId) {\n",
              "  const steps = uploadFilesStep(inputId, outputId);\n",
              "  const outputElement = document.getElementById(outputId);\n",
              "  // Cache steps on the outputElement to make it available for the next call\n",
              "  // to uploadFilesContinue from Python.\n",
              "  outputElement.steps = steps;\n",
              "\n",
              "  return _uploadFilesContinue(outputId);\n",
              "}\n",
              "\n",
              "// This is roughly an async generator (not supported in the browser yet),\n",
              "// where there are multiple asynchronous steps and the Python side is going\n",
              "// to poll for completion of each step.\n",
              "// This uses a Promise to block the python side on completion of each step,\n",
              "// then passes the result of the previous step as the input to the next step.\n",
              "function _uploadFilesContinue(outputId) {\n",
              "  const outputElement = document.getElementById(outputId);\n",
              "  const steps = outputElement.steps;\n",
              "\n",
              "  const next = steps.next(outputElement.lastPromiseValue);\n",
              "  return Promise.resolve(next.value.promise).then((value) => {\n",
              "    // Cache the last promise value to make it available to the next\n",
              "    // step of the generator.\n",
              "    outputElement.lastPromiseValue = value;\n",
              "    return next.value.response;\n",
              "  });\n",
              "}\n",
              "\n",
              "/**\n",
              " * Generator function which is called between each async step of the upload\n",
              " * process.\n",
              " * @param {string} inputId Element ID of the input file picker element.\n",
              " * @param {string} outputId Element ID of the output display.\n",
              " * @return {!Iterable<!Object>} Iterable of next steps.\n",
              " */\n",
              "function* uploadFilesStep(inputId, outputId) {\n",
              "  const inputElement = document.getElementById(inputId);\n",
              "  inputElement.disabled = false;\n",
              "\n",
              "  const outputElement = document.getElementById(outputId);\n",
              "  outputElement.innerHTML = '';\n",
              "\n",
              "  const pickedPromise = new Promise((resolve) => {\n",
              "    inputElement.addEventListener('change', (e) => {\n",
              "      resolve(e.target.files);\n",
              "    });\n",
              "  });\n",
              "\n",
              "  const cancel = document.createElement('button');\n",
              "  inputElement.parentElement.appendChild(cancel);\n",
              "  cancel.textContent = 'Cancel upload';\n",
              "  const cancelPromise = new Promise((resolve) => {\n",
              "    cancel.onclick = () => {\n",
              "      resolve(null);\n",
              "    };\n",
              "  });\n",
              "\n",
              "  // Wait for the user to pick the files.\n",
              "  const files = yield {\n",
              "    promise: Promise.race([pickedPromise, cancelPromise]),\n",
              "    response: {\n",
              "      action: 'starting',\n",
              "    }\n",
              "  };\n",
              "\n",
              "  cancel.remove();\n",
              "\n",
              "  // Disable the input element since further picks are not allowed.\n",
              "  inputElement.disabled = true;\n",
              "\n",
              "  if (!files) {\n",
              "    return {\n",
              "      response: {\n",
              "        action: 'complete',\n",
              "      }\n",
              "    };\n",
              "  }\n",
              "\n",
              "  for (const file of files) {\n",
              "    const li = document.createElement('li');\n",
              "    li.append(span(file.name, {fontWeight: 'bold'}));\n",
              "    li.append(span(\n",
              "        `(${file.type || 'n/a'}) - ${file.size} bytes, ` +\n",
              "        `last modified: ${\n",
              "            file.lastModifiedDate ? file.lastModifiedDate.toLocaleDateString() :\n",
              "                                    'n/a'} - `));\n",
              "    const percent = span('0% done');\n",
              "    li.appendChild(percent);\n",
              "\n",
              "    outputElement.appendChild(li);\n",
              "\n",
              "    const fileDataPromise = new Promise((resolve) => {\n",
              "      const reader = new FileReader();\n",
              "      reader.onload = (e) => {\n",
              "        resolve(e.target.result);\n",
              "      };\n",
              "      reader.readAsArrayBuffer(file);\n",
              "    });\n",
              "    // Wait for the data to be ready.\n",
              "    let fileData = yield {\n",
              "      promise: fileDataPromise,\n",
              "      response: {\n",
              "        action: 'continue',\n",
              "      }\n",
              "    };\n",
              "\n",
              "    // Use a chunked sending to avoid message size limits. See b/62115660.\n",
              "    let position = 0;\n",
              "    do {\n",
              "      const length = Math.min(fileData.byteLength - position, MAX_PAYLOAD_SIZE);\n",
              "      const chunk = new Uint8Array(fileData, position, length);\n",
              "      position += length;\n",
              "\n",
              "      const base64 = btoa(String.fromCharCode.apply(null, chunk));\n",
              "      yield {\n",
              "        response: {\n",
              "          action: 'append',\n",
              "          file: file.name,\n",
              "          data: base64,\n",
              "        },\n",
              "      };\n",
              "\n",
              "      let percentDone = fileData.byteLength === 0 ?\n",
              "          100 :\n",
              "          Math.round((position / fileData.byteLength) * 100);\n",
              "      percent.textContent = `${percentDone}% done`;\n",
              "\n",
              "    } while (position < fileData.byteLength);\n",
              "  }\n",
              "\n",
              "  // All done.\n",
              "  yield {\n",
              "    response: {\n",
              "      action: 'complete',\n",
              "    }\n",
              "  };\n",
              "}\n",
              "\n",
              "scope.google = scope.google || {};\n",
              "scope.google.colab = scope.google.colab || {};\n",
              "scope.google.colab._files = {\n",
              "  _uploadFiles,\n",
              "  _uploadFilesContinue,\n",
              "};\n",
              "})(self);\n",
              "</script> "
            ]
          },
          "metadata": {}
        }
      ]
    },
    {
      "cell_type": "code",
      "metadata": {
        "id": "NFOAohHGDpA_",
        "colab": {
          "base_uri": "https://localhost:8080/"
        },
        "outputId": "fdf076b7-613e-4b3e-da06-82ba2eabe55e"
      },
      "source": [
        "# from traitlets.config import keyvalue_description\n",
        "%%file 4_join.py\n",
        "#write the magic string to save it as 4_join.py\n",
        "from mrjob.job import MRJob\n",
        "from mrjob.step import MRStep\n",
        "\n",
        "'''\n",
        "Join the batting and salaries data for Barry Bonds per year.\n",
        "\n",
        "The output should be the combined CSV string of batting and salaries data (one per year).\n",
        "\n",
        "Use 'join' as the key for the final output in the reducer.\n",
        "\n",
        "E.g:\n",
        "\"join\"  \"bondsba01,1986,1,PIT,NL,113,413,72,92,26,3,16,48,36,7,65,102,2,2,2,2,41986,PIT,NL,bondsba01,60000\"\n",
        "\n",
        "Schema:\n",
        "Salaries: yearID\tteamID\tlgID\tplayerID\tsalary\n",
        "Batting: playerID\tyearID\tstint\tteamID\tlgID\tG\tAB\tR\tH\t2B\t3B\tHR\tRBI\tSB\tCS\tBB\tSO\n",
        "\n",
        "Hints: \n",
        "Use split to split the CSV lines (e.g. s = line.split(','))\n",
        "Both files are sent to the mapper. Use the length of the lines to determine which is which.\n",
        "'''\n",
        "\n",
        "\n",
        "class Join(MRJob):\n",
        "    # Using SORT_VALUES to sort on all fields, not just first. Read about sort values in https://buildmedia.readthedocs.org/media/pdf/mrjob/latest/mrjob.pdf\n",
        "    MRJob.SORT_VALUES = False\n",
        "    #PARTITIONER = True\n",
        " \n",
        "\n",
        "    def mapper(self, _, line):\n",
        "        lines = line.split(',')\n",
        "        lines_len = len(lines)\n",
        "\n",
        "          # playerID\tyearID\tstint\tteamID\tlgID\tG\tAB\tR\tH\t2B\t3B\tHR\tRBI\tSB\tCS\tBB\tSO\n",
        "        if (lines_len == 24) & (lines[0] == \"bondsba01\"):\n",
        "          indexes = [ 0, 1, 2, 3, 4, 5, 7, 8, 9, 10, 11, 12, 13, 14, 15, 16, 17, 18, 19, 20, 21, 22]\n",
        "          lines = [lines[x] for x in indexes]\n",
        "          key = int(lines[1])\n",
        "          value = ','.join(lines)\n",
        "          yield key, value\n",
        "        elif (lines_len == 5) & (lines[3] == \"bondsba01\"): \n",
        "          key = int(lines[0])\n",
        "          value = ','.join(lines)\n",
        "          yield key, value\n",
        "\n",
        "        \n",
        "    def reducer(self, year, lines):\n",
        "        checker = [x for x in lines]\n",
        "        if len(checker) > 1:\n",
        "          #Drop the columns that are not present in the schema \n",
        "          #Break the list and merge it all into one thing  - sum(checker, [])\n",
        "          yield \"join\", ','.join(checker)\n",
        "        else:\n",
        "          pass  \n",
        "        \n",
        "    def reduce_sort(self, _, values):\n",
        "        for value in sorted(values):\n",
        "            yield \"join\", value\n",
        "    \n",
        "    def steps(self):\n",
        "        return [\n",
        "            MRStep(mapper=self.mapper, reducer=self.reducer),\n",
        "            MRStep(reducer=self.reduce_sort)\n",
        "        ]\n",
        "\n",
        "\n",
        "if __name__ == '__main__':\n",
        "    Join.run()"
      ],
      "execution_count": 156,
      "outputs": [
        {
          "output_type": "stream",
          "name": "stdout",
          "text": [
            "Overwriting 4_join.py\n"
          ]
        }
      ]
    },
    {
      "source": [
        "## Step 1. Run MR program locally(Colab)"
      ],
      "cell_type": "markdown",
      "metadata": {
        "id": "eSupYo-LosId"
      }
    },
    {
      "cell_type": "code",
      "metadata": {
        "pycharm": {
          "name": "#%%\n"
        },
        "id": "cCYv0GOhaQJ_",
        "colab": {
          "base_uri": "https://localhost:8080/"
        },
        "outputId": "5a4b9c54-1b32-46aa-f4b7-3fdc75c8511d"
      },
      "source": [
        "#write the command to run it first to check for error\n",
        "%%time\n",
        "!python 4_join.py Batting.csv Salaries.csv > 4_join.out"
      ],
      "execution_count": 157,
      "outputs": [
        {
          "output_type": "stream",
          "name": "stdout",
          "text": [
            "No configs found; falling back on auto-configuration\n",
            "No configs specified for inline runner\n",
            "Creating temp directory /tmp/4_join.root.20230324.234753.730525\n",
            "Running step 1 of 2...\n",
            "Running step 2 of 2...\n",
            "job output is in /tmp/4_join.root.20230324.234753.730525/output\n",
            "Streaming final output from /tmp/4_join.root.20230324.234753.730525/output...\n",
            "Removing temp directory /tmp/4_join.root.20230324.234753.730525...\n",
            "CPU times: user 12.1 ms, sys: 11.2 ms, total: 23.3 ms\n",
            "Wall time: 626 ms\n"
          ]
        }
      ]
    },
    {
      "cell_type": "code",
      "metadata": {
        "id": "Hw5ABd9RaQJ_",
        "colab": {
          "base_uri": "https://localhost:8080/"
        },
        "outputId": "495a8be9-ef50-45dd-b89e-70d84a6fe19e"
      },
      "source": [
        "!cat 4_join.out"
      ],
      "execution_count": 158,
      "outputs": [
        {
          "output_type": "stream",
          "name": "stdout",
          "text": [
            "\"join\"\t\"bondsba01,1986,1,PIT,NL,113,413,72,92,26,3,16,48,36,7,65,102,2,2,2,2,4,1986,PIT,NL,bondsba01,60000\"\n",
            "\"join\"\t\"bondsba01,1987,1,PIT,NL,150,551,99,144,34,9,25,59,32,10,54,88,3,3,0,3,4,1987,PIT,NL,bondsba01,100000\"\n",
            "\"join\"\t\"bondsba01,1988,1,PIT,NL,144,538,97,152,30,5,24,58,17,11,72,82,14,2,0,2,3,1988,PIT,NL,bondsba01,220000\"\n",
            "\"join\"\t\"bondsba01,1989,1,PIT,NL,159,580,96,144,34,6,19,58,32,10,93,93,22,1,1,4,9,1989,PIT,NL,bondsba01,360000\"\n",
            "\"join\"\t\"bondsba01,1990,1,PIT,NL,151,519,104,156,32,3,33,114,52,13,93,83,15,3,0,6,8,1990,PIT,NL,bondsba01,850000\"\n",
            "\"join\"\t\"bondsba01,1991,1,PIT,NL,153,510,95,149,28,5,25,116,43,13,107,73,25,4,0,13,8,1991,PIT,NL,bondsba01,2300000\"\n",
            "\"join\"\t\"bondsba01,1992,1,PIT,NL,140,473,109,147,36,5,34,103,39,8,127,69,32,5,0,7,9,1992,PIT,NL,bondsba01,4800000\"\n",
            "\"join\"\t\"bondsba01,1993,1,SFN,NL,159,539,129,181,38,4,46,123,29,12,126,79,43,2,0,7,11,1993,SFN,NL,bondsba01,4516666\"\n",
            "\"join\"\t\"bondsba01,1994,1,SFN,NL,112,391,89,122,18,1,37,81,29,9,74,43,18,6,0,3,3,1994,SFN,NL,bondsba01,5166666\"\n",
            "\"join\"\t\"bondsba01,1995,1,SFN,NL,144,506,109,149,30,7,33,104,31,10,120,83,22,5,0,4,12,1995,SFN,NL,bondsba01,8166666\"\n",
            "\"join\"\t\"bondsba01,1996,1,SFN,NL,158,517,122,159,27,3,42,129,40,7,151,76,30,1,0,6,11,1996,SFN,NL,bondsba01,8416667\"\n",
            "\"join\"\t\"bondsba01,1997,1,SFN,NL,159,532,123,155,26,5,40,101,37,8,145,87,34,8,0,5,13,1997,SFN,NL,bondsba01,8666667\"\n",
            "\"join\"\t\"bondsba01,1998,1,SFN,NL,156,552,120,167,44,7,37,122,28,12,130,92,29,8,1,6,15,1998,SFN,NL,bondsba01,8916667\"\n",
            "\"join\"\t\"bondsba01,1999,1,SFN,NL,102,355,91,93,20,2,34,83,15,2,73,62,9,3,0,3,6,1999,SFN,NL,bondsba01,9381057\"\n",
            "\"join\"\t\"bondsba01,2000,1,SFN,NL,143,480,129,147,28,4,49,106,11,3,117,77,22,3,0,7,6,2000,SFN,NL,bondsba01,10658826\"\n",
            "\"join\"\t\"bondsba01,2001,1,SFN,NL,153,476,129,156,32,2,73,137,13,3,177,93,35,9,0,2,5,2001,SFN,NL,bondsba01,10300000\"\n",
            "\"join\"\t\"bondsba01,2002,1,SFN,NL,143,403,117,149,31,2,46,110,9,2,198,47,68,9,0,2,4,2002,SFN,NL,bondsba01,15000000\"\n",
            "\"join\"\t\"bondsba01,2003,1,SFN,NL,130,390,111,133,22,1,45,90,7,0,148,58,61,10,0,2,7,2003,SFN,NL,bondsba01,15500000\"\n",
            "\"join\"\t\"bondsba01,2004,1,SFN,NL,147,373,129,135,27,3,45,101,6,1,232,41,120,9,0,3,5,2004,SFN,NL,bondsba01,18000000\"\n",
            "\"join\"\t\"bondsba01,2005,1,SFN,NL,14,42,8,12,1,0,5,10,0,0,9,6,3,0,0,1,0,2005,SFN,NL,bondsba01,22000000\"\n",
            "\"join\"\t\"bondsba01,2006,1,SFN,NL,130,367,74,99,23,0,26,77,3,0,115,51,38,10,0,1,9,2006,SFN,NL,bondsba01,19331470\"\n",
            "\"join\"\t\"bondsba01,2007,1,SFN,NL,126,340,75,94,14,0,28,66,5,0,132,54,43,3,0,2,13,2007,SFN,NL,bondsba01,15533970\"\n"
          ]
        }
      ]
    },
    {
      "cell_type": "code",
      "source": [
        "# code\n",
        "l = ['hello', 'geek', 'have',\n",
        "   'a', '1', 'day']\n",
        " \n",
        "# this will join all the\n",
        "# elements of the list with ' '\n",
        "l = ','.join(l)\n",
        "print(l)"
      ],
      "metadata": {
        "colab": {
          "base_uri": "https://localhost:8080/"
        },
        "id": "NdUwjzQi7DMZ",
        "outputId": "ac6e3b2c-ce3b-4708-a77e-682cf51d1a99"
      },
      "execution_count": 91,
      "outputs": [
        {
          "output_type": "stream",
          "name": "stdout",
          "text": [
            "hello,geek,have,a,1,day\n"
          ]
        }
      ]
    },
    {
      "source": [
        "## Step 2. Run MR program on AWS EMR"
      ],
      "cell_type": "markdown",
      "metadata": {
        "id": "SUKoypj6osIf"
      }
    },
    {
      "source": [
        "### Please copy  Batting.csv and Salaries.csv into your S3 bucket."
      ],
      "cell_type": "markdown",
      "metadata": {
        "id": "uc9Uvuz5osIg"
      }
    },
    {
      "cell_type": "code",
      "metadata": {
        "id": "5BHydCGjFGda"
      },
      "source": [
        "#run and save output as 4_join.out\n",
        "#note that you can pass two files -- in any order to the mrjob\n",
        "#you might first check for errors before cascading the output it to 4_join.out\n",
        "%%time\n",
        "!python 4_join.py -r emr s3://<s3 url of the batting dataset> s3://<s3 url of the salaries dataset> --cloud-tmp-dir=s3://<s3 url of tmp directory> --cluster-id=<cluster ID> --conf-path <mrjob.conf file path in colab> > 4_join.out"
      ],
      "execution_count": null,
      "outputs": []
    },
    {
      "cell_type": "code",
      "metadata": {
        "id": "iJUgNkdYaQKA"
      },
      "source": [
        "!cat 4_join.out"
      ],
      "execution_count": null,
      "outputs": []
    },
    {
      "cell_type": "code",
      "metadata": {
        "id": "nctGmJTeFa1a"
      },
      "source": [
        "def test_count():\n",
        "    f = open('4_join.out')\n",
        "    lines = f.readlines()\n",
        "    f.close()\n",
        "    \n",
        "    found_line = False\n",
        "    for  line in lines:\n",
        "        if line[:-1] in [\n",
        "            '\"join\"\\t\"bondsba01,1986,1,PIT,NL,113,413,72,92,26,3,16,48,36,7,65,102,2,2,2,2,41986,PIT,NL,bondsba01,60000\"',\n",
        "            '\"join\"\\t\"bondsba01,1986,1,PIT,NL,113,413,72,92,26,3,16,48,36,7,65,102,2,2,2,2,4,1986,PIT,NL,bondsba01,60000\"']:\n",
        "            found_line = True\n",
        "    if not found_line:\n",
        "        assert False\n",
        "\n",
        "    \n",
        "    assert len(lines) == 22\n",
        "\n",
        "test_count()"
      ],
      "execution_count": 161,
      "outputs": []
    }
  ]
}