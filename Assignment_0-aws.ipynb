{
  "nbformat": 4,
  "nbformat_minor": 0,
  "metadata": {
    "colab": {
      "name": "Assignment-0",
      "provenance": [],
      "include_colab_link": true
    },
    "kernelspec": {
      "name": "python3",
      "display_name": "Python 3"
    },
    "language_info": {
      "name": "python"
    }
  },
  "cells": [
    {
      "cell_type": "markdown",
      "metadata": {
        "id": "view-in-github",
        "colab_type": "text"
      },
      "source": [
        "<a href=\"https://colab.research.google.com/github/guptasamz/CS_6376_Hybrid_Embedded_Sys/blob/main/Assignment_0-aws.ipynb\" target=\"_parent\"><img src=\"https://colab.research.google.com/assets/colab-badge.svg\" alt=\"Open In Colab\"/></a>"
      ]
    },
    {
      "cell_type": "markdown",
      "source": [
        "In this assignment we are going to work with data that was downloaded using using the [yfinance](https://pypi.org/project/yfinance/) library. It containst daily closing prices of all symbols."
      ],
      "metadata": {
        "id": "XZ8EGoj3LAv2"
      }
    },
    {
      "cell_type": "code",
      "source": [
        "import time\n",
        "t1 = time.perf_counter()\n",
        "\n",
        "from multiprocessing   import Pool\n",
        "from tqdm import *\n",
        "import pandas as pd"
      ],
      "metadata": {
        "id": "Wh2tTkoMM6sg"
      },
      "execution_count": 56,
      "outputs": []
    },
    {
      "cell_type": "code",
      "source": [
        "#Question 1: Explain what the code below is trying to do. Describe each step.\n",
        "data = pd.read_csv(\"http://www.nasdaqtrader.com/dynamic/SymDir/nasdaqtraded.txt\", sep='|')\n",
        "data_clean = data[data['Test Issue'] == 'N']\n",
        "symbols = set(data_clean['NASDAQ Symbol'].tolist())\n",
        "data = pd.read_csv(\"http://www.nasdaqtrader.com/dynamic/SymDir/otherlisted.txt\", sep='|')\n",
        "data_clean = data[data['Test Issue'] == 'N']\n",
        "symbols = set(data_clean['NASDAQ Symbol'].tolist())"
      ],
      "metadata": {
        "id": "5HN0Mhq4LFe2"
      },
      "execution_count": 57,
      "outputs": []
    },
    {
      "cell_type": "code",
      "source": [
        "#Describe your answer below.\n",
        "#Answer 1: \n",
        "\n",
        "\"\"\"\n",
        "The above piece of code first reads the text file from the nasdaqtrader website which consists of 11765 rows and 12 columns seprated by the '|' operator, this data is stored as a pandas dataframe in variable 'data' .\n",
        "Next, the data gets clean and stored in the 'data_clean' variable. In this step the rows for which the 'Test Issue' value is not 'N' are all filtered out and removed from the set i.e. 'Y' and 'nan' values are removed and the remaining dataset has a shape 11730 rows and 12 columns.\n",
        "Finally, all the symbols (individual data element in each row) from the NASDAQ Symbol column are converted to a set (duplicates are removed as no duplicates in set). The set 'symbols' has a length of 11730. \n",
        "\n",
        "Above describes the first three lines of code wherein the data is retrieved from the nasdaqtraded.txt file \n",
        "\n",
        "Second Half of the code:\n",
        "The data is read from the otherlisted file and stored in the variable 'data' as a pandas dataframe and each column is separated by '|' operator, the data has a shape 6307 rows and 8 columns. \n",
        "Next, the data gets clean and stored in the 'data_clean' variable. In this step the rows for which the 'Test Issue' value is not 'N' are all filtered out and removed from the set i.e. 'Y' and 'nan' values are removed and the remaining dataset has a shape 6281 rows and 8 columns.\n",
        "Finally, all the symbols (individual data element in each row) from the NASDAQ Symbol column are converted to a set (duplicates are removed as no duplicates in set). The set 'symbols' has a length of 6281.\n",
        "\"\"\""
      ],
      "metadata": {
        "id": "MYY6pkbnMUvO",
        "colab": {
          "base_uri": "https://localhost:8080/"
        },
        "outputId": "195ad6a0-f81c-4bd2-8263-790e48c80a5b"
      },
      "execution_count": 58,
      "outputs": [
        {
          "output_type": "execute_result",
          "data": {
            "text/plain": [
              "\"\\nThe above piece of code first reads the text file from the nasdaqtrader website which consists of 11765 rows and 12 columns seprated by the '|' operator, this data is stored as a pandas dataframe in variable 'data' .\\nNext, the data gets clean and stored in the 'data_clean' variable. In this step the rows for which the 'Test Issue' value is not 'N' are all filtered out and removed from the set i.e. 'Y' and 'nan' values are removed and the remaining dataset has a shape 11730 rows and 12 columns.\\nFinally, all the symbols (individual data element in each row) from the NASDAQ Symbol column are converted to a set (duplicates are removed as no duplicates in set). The set 'symbols' has a length of 11730. \\n\\nAbove describes the first three lines of code wherein the data is retrieved from the nasdaqtraded.txt file \\n\\nSecond Half of the code:\\nThe data is read from the otherlisted file and stored in the variable 'data' as a pandas dataframe and each column is separated by '|' operator, the data has a shape 6307 rows and 8 columns. \\nNext, the data gets clean and stored in the 'data_clean' variable. In this step the rows for which the 'Test Issue' value is not 'N' are all filtered out and removed from the set i.e. 'Y' and 'nan' values are removed and the remaining dataset has a shape 6281 rows and 8 columns.\\nFinally, all the symbols (individual data element in each row) from the NASDAQ Symbol column are converted to a set (duplicates are removed as no duplicates in set). The set 'symbols' has a length of 6281.\\n\""
            ]
          },
          "metadata": {},
          "execution_count": 58
        }
      ]
    },
    {
      "cell_type": "code",
      "source": [
        "!wget  -O stocks.parquet https://www.dropbox.com/s/gzpi950gfdz9dsk/stocks.parquet?dl=1 # lets download the data"
      ],
      "metadata": {
        "id": "5b3j282aZMIO",
        "colab": {
          "base_uri": "https://localhost:8080/"
        },
        "outputId": "925a5bcf-1f5d-43b9-cb8b-cd3736384af4"
      },
      "execution_count": 59,
      "outputs": [
        {
          "output_type": "stream",
          "name": "stdout",
          "text": [
            "--2023-01-30 01:21:24--  https://www.dropbox.com/s/gzpi950gfdz9dsk/stocks.parquet?dl=1\n",
            "Resolving www.dropbox.com (www.dropbox.com)... 162.125.6.18, 2620:100:601c:18::a27d:612\n",
            "Connecting to www.dropbox.com (www.dropbox.com)|162.125.6.18|:443... connected.\n",
            "HTTP request sent, awaiting response... 302 Found\n",
            "Location: /s/dl/gzpi950gfdz9dsk/stocks.parquet [following]\n",
            "--2023-01-30 01:21:24--  https://www.dropbox.com/s/dl/gzpi950gfdz9dsk/stocks.parquet\n",
            "Reusing existing connection to www.dropbox.com:443.\n",
            "HTTP request sent, awaiting response... 302 Found\n",
            "Location: https://uc92dfc47b81e9014f4dc7b6fe2d.dl.dropboxusercontent.com/cd/0/get/B1hhvfoV_rNIGq4Jj60WUpQDwGUroKeTGw_yMRfsIIaNDgmEKmCl2n5IVNlr6A-DzUNc8nj-UUOmV7BUAb27Zazs2J2eyG354VXQTC5MoDSDdHzAGsLyIDtrBHvzy7HaVpN7QkaOn04kfe3YI6DZsGn6mB932r2kjzthRES7S0gq_g/file?dl=1# [following]\n",
            "--2023-01-30 01:21:24--  https://uc92dfc47b81e9014f4dc7b6fe2d.dl.dropboxusercontent.com/cd/0/get/B1hhvfoV_rNIGq4Jj60WUpQDwGUroKeTGw_yMRfsIIaNDgmEKmCl2n5IVNlr6A-DzUNc8nj-UUOmV7BUAb27Zazs2J2eyG354VXQTC5MoDSDdHzAGsLyIDtrBHvzy7HaVpN7QkaOn04kfe3YI6DZsGn6mB932r2kjzthRES7S0gq_g/file?dl=1\n",
            "Resolving uc92dfc47b81e9014f4dc7b6fe2d.dl.dropboxusercontent.com (uc92dfc47b81e9014f4dc7b6fe2d.dl.dropboxusercontent.com)... 162.125.6.15, 2620:100:601c:15::a27d:60f\n",
            "Connecting to uc92dfc47b81e9014f4dc7b6fe2d.dl.dropboxusercontent.com (uc92dfc47b81e9014f4dc7b6fe2d.dl.dropboxusercontent.com)|162.125.6.15|:443... connected.\n",
            "HTTP request sent, awaiting response... 200 OK\n",
            "Length: 678640589 (647M) [application/binary]\n",
            "Saving to: ‘stocks.parquet’\n",
            "\n",
            "stocks.parquet      100%[===================>] 647.20M   105MB/s    in 7.5s    \n",
            "\n",
            "2023-01-30 01:21:33 (86.4 MB/s) - ‘stocks.parquet’ saved [678640589/678640589]\n",
            "\n"
          ]
        }
      ]
    },
    {
      "cell_type": "code",
      "source": [
        "!ls stocks.parquet -l #downloaded file"
      ],
      "metadata": {
        "colab": {
          "base_uri": "https://localhost:8080/"
        },
        "id": "jPZoUqKNZhRX",
        "outputId": "960bd8c7-6a8e-4d27-87fc-679d9225c420"
      },
      "execution_count": 60,
      "outputs": [
        {
          "output_type": "stream",
          "name": "stdout",
          "text": [
            "-rw-rw-r-- 1 ubuntu ubuntu 678640589 Jan 30 01:21 stocks.parquet\r\n"
          ]
        }
      ]
    },
    {
      "cell_type": "code",
      "source": [
        "#Bonus question 1 - find on internet and write the command that will download the all data from the symbols list. \n",
        "# Note: The below code is commented out because colab runs into out of memory issue when executing all the cells in the file. \n",
        "#       Please execute this cell as standalone to ensure that OOM issue does not occur. This is not the case for colab+AWS\n",
        "\n",
        "\n",
        "col = ['symbol']\n",
        "sym = pd.read_parquet(\"https://www.dropbox.com/s/gzpi950gfdz9dsk/stocks.parquet?dl=1\", columns = col)\n",
        "print(sym)\n",
        "sym = []"
      ],
      "metadata": {
        "id": "m9ZaZDOgNxhF",
        "colab": {
          "base_uri": "https://localhost:8080/"
        },
        "outputId": "317b4439-63a8-4017-e0a1-4712f88493b9"
      },
      "execution_count": 61,
      "outputs": [
        {
          "output_type": "stream",
          "name": "stdout",
          "text": [
            "         symbol\n",
            "0           HPQ\n",
            "1           HPQ\n",
            "2           HPQ\n",
            "3           HPQ\n",
            "4           HPQ\n",
            "...         ...\n",
            "30305073  XPAXW\n",
            "30305074  CDAQW\n",
            "30305075   MH-D\n",
            "30305076  JAQCW\n",
            "30305077  SANBW\n",
            "\n",
            "[30305078 rows x 1 columns]\n"
          ]
        }
      ]
    },
    {
      "cell_type": "code",
      "source": [
        "data=pd.read_parquet('stocks.parquet')"
      ],
      "metadata": {
        "id": "AldxdSqFZ1mC"
      },
      "execution_count": 62,
      "outputs": []
    },
    {
      "cell_type": "code",
      "source": [
        "data.head(5) # Below shows a sample of the data.\n",
        "#date - describes the day of the price\n",
        "#open - the price at which stock opened\n",
        "#high - what was the intraday high\n",
        "#low - what is the intraday low\n",
        "#close - what was the closing price\n",
        "#adj_close - the price calculated after adjusting for all future stock splits\n",
        "#dividends - what are the dividends that were paid on the day.\n",
        "#stock_splits - if the stock was split\n",
        "#symbol the symbol of the stock\n"
      ],
      "metadata": {
        "colab": {
          "base_uri": "https://localhost:8080/",
          "height": 206
        },
        "id": "JLriTcuObF3k",
        "outputId": "c7a26c63-60a5-4619-f41d-8215b28cb4a4"
      },
      "execution_count": 63,
      "outputs": [
        {
          "output_type": "execute_result",
          "data": {
            "text/plain": [
              "         date      open      high       low     close  adj_close     volume  \\\n",
              "0  1962-01-02  0.131273  0.131273  0.124177  0.124177   0.045278  2480333.0   \n",
              "1  1962-01-03  0.124177  0.124177  0.121516  0.122846   0.044793   507341.0   \n",
              "2  1962-01-04  0.122846  0.126838  0.117968  0.120185   0.043823   845568.0   \n",
              "3  1962-01-05  0.119742  0.119742  0.117525  0.117525   0.042853   338227.0   \n",
              "4  1962-01-08  0.117525  0.119299  0.115307  0.119299   0.043500   873754.0   \n",
              "\n",
              "   dividends stock_splits symbol  day  year  month  dayofweek  \n",
              "0        0.0          0.0    HPQ    2  1962      1    Tuesday  \n",
              "1        0.0          0.0    HPQ    3  1962      1  Wednesday  \n",
              "2        0.0          0.0    HPQ    4  1962      1   Thursday  \n",
              "3        0.0          0.0    HPQ    5  1962      1     Friday  \n",
              "4        0.0          0.0    HPQ    8  1962      1     Monday  "
            ],
            "text/html": [
              "<div>\n",
              "<style scoped>\n",
              "    .dataframe tbody tr th:only-of-type {\n",
              "        vertical-align: middle;\n",
              "    }\n",
              "\n",
              "    .dataframe tbody tr th {\n",
              "        vertical-align: top;\n",
              "    }\n",
              "\n",
              "    .dataframe thead th {\n",
              "        text-align: right;\n",
              "    }\n",
              "</style>\n",
              "<table border=\"1\" class=\"dataframe\">\n",
              "  <thead>\n",
              "    <tr style=\"text-align: right;\">\n",
              "      <th></th>\n",
              "      <th>date</th>\n",
              "      <th>open</th>\n",
              "      <th>high</th>\n",
              "      <th>low</th>\n",
              "      <th>close</th>\n",
              "      <th>adj_close</th>\n",
              "      <th>volume</th>\n",
              "      <th>dividends</th>\n",
              "      <th>stock_splits</th>\n",
              "      <th>symbol</th>\n",
              "      <th>day</th>\n",
              "      <th>year</th>\n",
              "      <th>month</th>\n",
              "      <th>dayofweek</th>\n",
              "    </tr>\n",
              "  </thead>\n",
              "  <tbody>\n",
              "    <tr>\n",
              "      <th>0</th>\n",
              "      <td>1962-01-02</td>\n",
              "      <td>0.131273</td>\n",
              "      <td>0.131273</td>\n",
              "      <td>0.124177</td>\n",
              "      <td>0.124177</td>\n",
              "      <td>0.045278</td>\n",
              "      <td>2480333.0</td>\n",
              "      <td>0.0</td>\n",
              "      <td>0.0</td>\n",
              "      <td>HPQ</td>\n",
              "      <td>2</td>\n",
              "      <td>1962</td>\n",
              "      <td>1</td>\n",
              "      <td>Tuesday</td>\n",
              "    </tr>\n",
              "    <tr>\n",
              "      <th>1</th>\n",
              "      <td>1962-01-03</td>\n",
              "      <td>0.124177</td>\n",
              "      <td>0.124177</td>\n",
              "      <td>0.121516</td>\n",
              "      <td>0.122846</td>\n",
              "      <td>0.044793</td>\n",
              "      <td>507341.0</td>\n",
              "      <td>0.0</td>\n",
              "      <td>0.0</td>\n",
              "      <td>HPQ</td>\n",
              "      <td>3</td>\n",
              "      <td>1962</td>\n",
              "      <td>1</td>\n",
              "      <td>Wednesday</td>\n",
              "    </tr>\n",
              "    <tr>\n",
              "      <th>2</th>\n",
              "      <td>1962-01-04</td>\n",
              "      <td>0.122846</td>\n",
              "      <td>0.126838</td>\n",
              "      <td>0.117968</td>\n",
              "      <td>0.120185</td>\n",
              "      <td>0.043823</td>\n",
              "      <td>845568.0</td>\n",
              "      <td>0.0</td>\n",
              "      <td>0.0</td>\n",
              "      <td>HPQ</td>\n",
              "      <td>4</td>\n",
              "      <td>1962</td>\n",
              "      <td>1</td>\n",
              "      <td>Thursday</td>\n",
              "    </tr>\n",
              "    <tr>\n",
              "      <th>3</th>\n",
              "      <td>1962-01-05</td>\n",
              "      <td>0.119742</td>\n",
              "      <td>0.119742</td>\n",
              "      <td>0.117525</td>\n",
              "      <td>0.117525</td>\n",
              "      <td>0.042853</td>\n",
              "      <td>338227.0</td>\n",
              "      <td>0.0</td>\n",
              "      <td>0.0</td>\n",
              "      <td>HPQ</td>\n",
              "      <td>5</td>\n",
              "      <td>1962</td>\n",
              "      <td>1</td>\n",
              "      <td>Friday</td>\n",
              "    </tr>\n",
              "    <tr>\n",
              "      <th>4</th>\n",
              "      <td>1962-01-08</td>\n",
              "      <td>0.117525</td>\n",
              "      <td>0.119299</td>\n",
              "      <td>0.115307</td>\n",
              "      <td>0.119299</td>\n",
              "      <td>0.043500</td>\n",
              "      <td>873754.0</td>\n",
              "      <td>0.0</td>\n",
              "      <td>0.0</td>\n",
              "      <td>HPQ</td>\n",
              "      <td>8</td>\n",
              "      <td>1962</td>\n",
              "      <td>1</td>\n",
              "      <td>Monday</td>\n",
              "    </tr>\n",
              "  </tbody>\n",
              "</table>\n",
              "</div>"
            ]
          },
          "metadata": {},
          "execution_count": 63
        }
      ]
    },
    {
      "cell_type": "code",
      "source": [
        "# Question 2 find top 20 best performer stocks - i.e. the stocks that provided the best return.\n",
        "# if the stocks adj_close on the earliest date was X and the adj_close on the 2021-01-01 is y and the number of days elapsed between these dates is Z.\n",
        "# Then return = Y/X/Z"
      ],
      "metadata": {
        "id": "c3vJMi_8bAwC"
      },
      "execution_count": 64,
      "outputs": []
    },
    {
      "cell_type": "code",
      "source": [
        "#Convert date in string format to date time format\n",
        "data['date']= pd.to_datetime(data['date'])"
      ],
      "metadata": {
        "id": "WHjQ33O5vMaT"
      },
      "execution_count": 65,
      "outputs": []
    },
    {
      "cell_type": "code",
      "source": [
        "#Getting the indexes of the of the columns that have the minimum date according to each symbol\n",
        "min_idx = data.groupby(['symbol'])['date'].transform(min) == data['date']\n",
        "#Extracting all the columns, sorting according to symbol and reseting the index\n",
        "earliest_date = data[min_idx].sort_values('symbol').reset_index()"
      ],
      "metadata": {
        "id": "fBT66Q5eL2p4"
      },
      "execution_count": 66,
      "outputs": []
    },
    {
      "cell_type": "code",
      "source": [
        "#Getting the indexes of the of the columns that have the maximum date according to each symbol\n",
        "max_idx = data.groupby(['symbol'])['date'].transform(max) == data['date']\n",
        "y_value = data[max_idx].sort_values('symbol').reset_index()"
      ],
      "metadata": {
        "id": "6mGEcrzDKzjs"
      },
      "execution_count": 67,
      "outputs": []
    },
    {
      "cell_type": "code",
      "source": [
        "#Dropping columns that are not required\n",
        "earliest_date = earliest_date.drop(columns=['index', 'open','high','low','close','volume','dividends','stock_splits','day','year','month','dayofweek'])\n",
        "#Extracting all the columns, sorting according to symbol and reseting the index\n",
        "y_value = y_value.drop(columns=['index', 'open','high','low','close','volume','dividends','stock_splits','day','year','month','dayofweek'])\n",
        "#earliest_date"
      ],
      "metadata": {
        "id": "KqNmolgOOWgA"
      },
      "execution_count": 68,
      "outputs": []
    },
    {
      "cell_type": "code",
      "source": [
        "#Renaming the columns\n",
        "#y_value = y_value.sort_values(['symbol'], ignore_index=True)\n",
        "y_value.rename({'adj_close': 'Y', 'date': 'y_date'}, axis=1, inplace=True)\n",
        "#y_value\n",
        "\n",
        "#Renaming the columns\n",
        "earliest_date.rename({'adj_close': 'X', 'date': 'x_date'}, axis=1, inplace=True)\n",
        "#earliest_date\n",
        "\n",
        "#merging the two dataframes created based on symbol\n",
        "result = pd.merge(earliest_date, y_value, on='symbol')\n",
        "#result"
      ],
      "metadata": {
        "id": "J2U0vlMf1_Wx"
      },
      "execution_count": 69,
      "outputs": []
    },
    {
      "cell_type": "code",
      "source": [
        "#Extract the number of days (Z column)\n",
        "result['Z'] = result['y_date'] - result['x_date'] \n",
        "#Convert the number of days (Z column) to integer value for division\n",
        "result['Z'] = pd.to_numeric(result['Z'].dt.days, downcast='integer')\n",
        "result['Z'] = result['Z'] + 1\n",
        "\n",
        "#Get the return according to the given format\n",
        "result['return'] = result['Y'] / result['X'] / result['Z']\n",
        "\n",
        "#result"
      ],
      "metadata": {
        "id": "k2j3k9G23lwZ"
      },
      "execution_count": 70,
      "outputs": []
    },
    {
      "cell_type": "code",
      "source": [
        "result"
      ],
      "metadata": {
        "colab": {
          "base_uri": "https://localhost:8080/",
          "height": 424
        },
        "id": "ZYztKaFUAFmz",
        "outputId": "412e00cc-4cff-49fd-b5ff-cacb021bea10"
      },
      "execution_count": 71,
      "outputs": [
        {
          "output_type": "execute_result",
          "data": {
            "text/plain": [
              "          x_date          X symbol     y_date           Y      Z    return\n",
              "0     1999-11-18  27.102226      A 2021-12-27  158.740005   8076  0.000725\n",
              "1     1962-01-02   1.541704     AA 2021-12-27   59.830002  21910  0.001771\n",
              "2     2020-09-09  24.849628    AAA 2021-12-27   25.014999    475  0.002119\n",
              "3     2018-08-15  11.740000   AAAU 2021-12-27   18.010000   1231  0.001246\n",
              "4     2021-03-25   9.870000    AAC 2021-12-27    9.740000    278  0.003550\n",
              "...          ...        ...    ...        ...         ...    ...       ...\n",
              "11045 2012-03-29  20.000000    ZWS 2021-12-27   36.470001   3561  0.000512\n",
              "11046 2021-04-22  37.650002     ZY 2021-12-27    7.160000    250  0.000761\n",
              "11047 2017-04-28  13.000000   ZYME 2021-12-27   15.820000   1705  0.000714\n",
              "11048 2015-08-05  16.250000   ZYNE 2021-12-27    3.160000   2337  0.000083\n",
              "11049 2004-02-25   1.534255   ZYXI 2021-12-27   10.480000   6516  0.001048\n",
              "\n",
              "[11050 rows x 7 columns]"
            ],
            "text/html": [
              "<div>\n",
              "<style scoped>\n",
              "    .dataframe tbody tr th:only-of-type {\n",
              "        vertical-align: middle;\n",
              "    }\n",
              "\n",
              "    .dataframe tbody tr th {\n",
              "        vertical-align: top;\n",
              "    }\n",
              "\n",
              "    .dataframe thead th {\n",
              "        text-align: right;\n",
              "    }\n",
              "</style>\n",
              "<table border=\"1\" class=\"dataframe\">\n",
              "  <thead>\n",
              "    <tr style=\"text-align: right;\">\n",
              "      <th></th>\n",
              "      <th>x_date</th>\n",
              "      <th>X</th>\n",
              "      <th>symbol</th>\n",
              "      <th>y_date</th>\n",
              "      <th>Y</th>\n",
              "      <th>Z</th>\n",
              "      <th>return</th>\n",
              "    </tr>\n",
              "  </thead>\n",
              "  <tbody>\n",
              "    <tr>\n",
              "      <th>0</th>\n",
              "      <td>1999-11-18</td>\n",
              "      <td>27.102226</td>\n",
              "      <td>A</td>\n",
              "      <td>2021-12-27</td>\n",
              "      <td>158.740005</td>\n",
              "      <td>8076</td>\n",
              "      <td>0.000725</td>\n",
              "    </tr>\n",
              "    <tr>\n",
              "      <th>1</th>\n",
              "      <td>1962-01-02</td>\n",
              "      <td>1.541704</td>\n",
              "      <td>AA</td>\n",
              "      <td>2021-12-27</td>\n",
              "      <td>59.830002</td>\n",
              "      <td>21910</td>\n",
              "      <td>0.001771</td>\n",
              "    </tr>\n",
              "    <tr>\n",
              "      <th>2</th>\n",
              "      <td>2020-09-09</td>\n",
              "      <td>24.849628</td>\n",
              "      <td>AAA</td>\n",
              "      <td>2021-12-27</td>\n",
              "      <td>25.014999</td>\n",
              "      <td>475</td>\n",
              "      <td>0.002119</td>\n",
              "    </tr>\n",
              "    <tr>\n",
              "      <th>3</th>\n",
              "      <td>2018-08-15</td>\n",
              "      <td>11.740000</td>\n",
              "      <td>AAAU</td>\n",
              "      <td>2021-12-27</td>\n",
              "      <td>18.010000</td>\n",
              "      <td>1231</td>\n",
              "      <td>0.001246</td>\n",
              "    </tr>\n",
              "    <tr>\n",
              "      <th>4</th>\n",
              "      <td>2021-03-25</td>\n",
              "      <td>9.870000</td>\n",
              "      <td>AAC</td>\n",
              "      <td>2021-12-27</td>\n",
              "      <td>9.740000</td>\n",
              "      <td>278</td>\n",
              "      <td>0.003550</td>\n",
              "    </tr>\n",
              "    <tr>\n",
              "      <th>...</th>\n",
              "      <td>...</td>\n",
              "      <td>...</td>\n",
              "      <td>...</td>\n",
              "      <td>...</td>\n",
              "      <td>...</td>\n",
              "      <td>...</td>\n",
              "      <td>...</td>\n",
              "    </tr>\n",
              "    <tr>\n",
              "      <th>11045</th>\n",
              "      <td>2012-03-29</td>\n",
              "      <td>20.000000</td>\n",
              "      <td>ZWS</td>\n",
              "      <td>2021-12-27</td>\n",
              "      <td>36.470001</td>\n",
              "      <td>3561</td>\n",
              "      <td>0.000512</td>\n",
              "    </tr>\n",
              "    <tr>\n",
              "      <th>11046</th>\n",
              "      <td>2021-04-22</td>\n",
              "      <td>37.650002</td>\n",
              "      <td>ZY</td>\n",
              "      <td>2021-12-27</td>\n",
              "      <td>7.160000</td>\n",
              "      <td>250</td>\n",
              "      <td>0.000761</td>\n",
              "    </tr>\n",
              "    <tr>\n",
              "      <th>11047</th>\n",
              "      <td>2017-04-28</td>\n",
              "      <td>13.000000</td>\n",
              "      <td>ZYME</td>\n",
              "      <td>2021-12-27</td>\n",
              "      <td>15.820000</td>\n",
              "      <td>1705</td>\n",
              "      <td>0.000714</td>\n",
              "    </tr>\n",
              "    <tr>\n",
              "      <th>11048</th>\n",
              "      <td>2015-08-05</td>\n",
              "      <td>16.250000</td>\n",
              "      <td>ZYNE</td>\n",
              "      <td>2021-12-27</td>\n",
              "      <td>3.160000</td>\n",
              "      <td>2337</td>\n",
              "      <td>0.000083</td>\n",
              "    </tr>\n",
              "    <tr>\n",
              "      <th>11049</th>\n",
              "      <td>2004-02-25</td>\n",
              "      <td>1.534255</td>\n",
              "      <td>ZYXI</td>\n",
              "      <td>2021-12-27</td>\n",
              "      <td>10.480000</td>\n",
              "      <td>6516</td>\n",
              "      <td>0.001048</td>\n",
              "    </tr>\n",
              "  </tbody>\n",
              "</table>\n",
              "<p>11050 rows × 7 columns</p>\n",
              "</div>"
            ]
          },
          "metadata": {},
          "execution_count": 71
        }
      ]
    },
    {
      "cell_type": "code",
      "source": [
        "#Sort the result according the return in descending order\n",
        "result = result.sort_values(['return'], ascending=False, ignore_index=True)\n",
        "\n",
        "#Obtain the required result\n",
        "result.head(20)"
      ],
      "metadata": {
        "colab": {
          "base_uri": "https://localhost:8080/",
          "height": 677
        },
        "id": "_0efPQRN4a77",
        "outputId": "dd453fd8-8857-481b-f26c-39a42bda782b"
      },
      "execution_count": 72,
      "outputs": [
        {
          "output_type": "execute_result",
          "data": {
            "text/plain": [
              "       x_date             X symbol     y_date           Y      Z        return\n",
              "0  2017-06-19  0.000000e+00   USOI 2021-12-27    5.170000   1653           inf\n",
              "1  2017-06-13  0.000000e+00   VSDA 2021-12-27   47.099998   1659           inf\n",
              "2  2017-07-03  0.000000e+00   GIGB 2021-12-27   54.344002   1639           inf\n",
              "3  2017-06-23  0.000000e+00   JPST 2021-12-27   50.490002   1649           inf\n",
              "4  2014-12-23  0.000000e+00   TUSA 2021-12-27   50.530998   2562           inf\n",
              "5  2017-06-20  0.000000e+00   FLQL 2021-12-27   46.860001   1652           inf\n",
              "6  2013-09-24  0.000000e+00   LRFC 2021-12-27   23.230000   3017           inf\n",
              "7  2012-12-18  0.000000e+00   PRTA 2021-12-27   47.430000   3297           inf\n",
              "8  2015-03-23  0.000000e+00     XT 2021-12-27   66.769997   2472           inf\n",
              "9  2017-06-20  0.000000e+00   FLQM 2021-12-27   48.005001   1652           inf\n",
              "10 2017-06-20  0.000000e+00   FLQS 2021-12-27   39.870998   1652           inf\n",
              "11 1981-04-30  2.275794e-09    NVO 2021-12-27  111.629997  14852  3.302654e+06\n",
              "12 1980-12-02  3.775067e-06    NKE 2021-12-27  167.580002  15001  2.959220e+03\n",
              "13 1980-03-17  9.812100e-06    DCI 2021-12-27   57.939999  15261  3.869310e+02\n",
              "14 1987-06-26  2.857077e-05    TJX 2021-12-27   74.290001  12604  2.063004e+02\n",
              "15 1980-03-17  4.768529e-04   WTRG 2021-12-27   52.549999  15261  7.221132e+00\n",
              "16 1980-03-17  1.051490e-03    TTC 2021-12-27   99.879997  15261  6.224300e+00\n",
              "17 1973-05-03  7.828808e-04    USB 2021-12-27   56.740002  17771  4.078325e+00\n",
              "18 1966-07-05  3.923203e-03    MCD 2021-12-27  268.239990  20265  3.373931e+00\n",
              "19 1987-09-16  3.345692e-03    PII 2021-12-27  107.000000  12522  2.554019e+00"
            ],
            "text/html": [
              "<div>\n",
              "<style scoped>\n",
              "    .dataframe tbody tr th:only-of-type {\n",
              "        vertical-align: middle;\n",
              "    }\n",
              "\n",
              "    .dataframe tbody tr th {\n",
              "        vertical-align: top;\n",
              "    }\n",
              "\n",
              "    .dataframe thead th {\n",
              "        text-align: right;\n",
              "    }\n",
              "</style>\n",
              "<table border=\"1\" class=\"dataframe\">\n",
              "  <thead>\n",
              "    <tr style=\"text-align: right;\">\n",
              "      <th></th>\n",
              "      <th>x_date</th>\n",
              "      <th>X</th>\n",
              "      <th>symbol</th>\n",
              "      <th>y_date</th>\n",
              "      <th>Y</th>\n",
              "      <th>Z</th>\n",
              "      <th>return</th>\n",
              "    </tr>\n",
              "  </thead>\n",
              "  <tbody>\n",
              "    <tr>\n",
              "      <th>0</th>\n",
              "      <td>2017-06-19</td>\n",
              "      <td>0.000000e+00</td>\n",
              "      <td>USOI</td>\n",
              "      <td>2021-12-27</td>\n",
              "      <td>5.170000</td>\n",
              "      <td>1653</td>\n",
              "      <td>inf</td>\n",
              "    </tr>\n",
              "    <tr>\n",
              "      <th>1</th>\n",
              "      <td>2017-06-13</td>\n",
              "      <td>0.000000e+00</td>\n",
              "      <td>VSDA</td>\n",
              "      <td>2021-12-27</td>\n",
              "      <td>47.099998</td>\n",
              "      <td>1659</td>\n",
              "      <td>inf</td>\n",
              "    </tr>\n",
              "    <tr>\n",
              "      <th>2</th>\n",
              "      <td>2017-07-03</td>\n",
              "      <td>0.000000e+00</td>\n",
              "      <td>GIGB</td>\n",
              "      <td>2021-12-27</td>\n",
              "      <td>54.344002</td>\n",
              "      <td>1639</td>\n",
              "      <td>inf</td>\n",
              "    </tr>\n",
              "    <tr>\n",
              "      <th>3</th>\n",
              "      <td>2017-06-23</td>\n",
              "      <td>0.000000e+00</td>\n",
              "      <td>JPST</td>\n",
              "      <td>2021-12-27</td>\n",
              "      <td>50.490002</td>\n",
              "      <td>1649</td>\n",
              "      <td>inf</td>\n",
              "    </tr>\n",
              "    <tr>\n",
              "      <th>4</th>\n",
              "      <td>2014-12-23</td>\n",
              "      <td>0.000000e+00</td>\n",
              "      <td>TUSA</td>\n",
              "      <td>2021-12-27</td>\n",
              "      <td>50.530998</td>\n",
              "      <td>2562</td>\n",
              "      <td>inf</td>\n",
              "    </tr>\n",
              "    <tr>\n",
              "      <th>5</th>\n",
              "      <td>2017-06-20</td>\n",
              "      <td>0.000000e+00</td>\n",
              "      <td>FLQL</td>\n",
              "      <td>2021-12-27</td>\n",
              "      <td>46.860001</td>\n",
              "      <td>1652</td>\n",
              "      <td>inf</td>\n",
              "    </tr>\n",
              "    <tr>\n",
              "      <th>6</th>\n",
              "      <td>2013-09-24</td>\n",
              "      <td>0.000000e+00</td>\n",
              "      <td>LRFC</td>\n",
              "      <td>2021-12-27</td>\n",
              "      <td>23.230000</td>\n",
              "      <td>3017</td>\n",
              "      <td>inf</td>\n",
              "    </tr>\n",
              "    <tr>\n",
              "      <th>7</th>\n",
              "      <td>2012-12-18</td>\n",
              "      <td>0.000000e+00</td>\n",
              "      <td>PRTA</td>\n",
              "      <td>2021-12-27</td>\n",
              "      <td>47.430000</td>\n",
              "      <td>3297</td>\n",
              "      <td>inf</td>\n",
              "    </tr>\n",
              "    <tr>\n",
              "      <th>8</th>\n",
              "      <td>2015-03-23</td>\n",
              "      <td>0.000000e+00</td>\n",
              "      <td>XT</td>\n",
              "      <td>2021-12-27</td>\n",
              "      <td>66.769997</td>\n",
              "      <td>2472</td>\n",
              "      <td>inf</td>\n",
              "    </tr>\n",
              "    <tr>\n",
              "      <th>9</th>\n",
              "      <td>2017-06-20</td>\n",
              "      <td>0.000000e+00</td>\n",
              "      <td>FLQM</td>\n",
              "      <td>2021-12-27</td>\n",
              "      <td>48.005001</td>\n",
              "      <td>1652</td>\n",
              "      <td>inf</td>\n",
              "    </tr>\n",
              "    <tr>\n",
              "      <th>10</th>\n",
              "      <td>2017-06-20</td>\n",
              "      <td>0.000000e+00</td>\n",
              "      <td>FLQS</td>\n",
              "      <td>2021-12-27</td>\n",
              "      <td>39.870998</td>\n",
              "      <td>1652</td>\n",
              "      <td>inf</td>\n",
              "    </tr>\n",
              "    <tr>\n",
              "      <th>11</th>\n",
              "      <td>1981-04-30</td>\n",
              "      <td>2.275794e-09</td>\n",
              "      <td>NVO</td>\n",
              "      <td>2021-12-27</td>\n",
              "      <td>111.629997</td>\n",
              "      <td>14852</td>\n",
              "      <td>3.302654e+06</td>\n",
              "    </tr>\n",
              "    <tr>\n",
              "      <th>12</th>\n",
              "      <td>1980-12-02</td>\n",
              "      <td>3.775067e-06</td>\n",
              "      <td>NKE</td>\n",
              "      <td>2021-12-27</td>\n",
              "      <td>167.580002</td>\n",
              "      <td>15001</td>\n",
              "      <td>2.959220e+03</td>\n",
              "    </tr>\n",
              "    <tr>\n",
              "      <th>13</th>\n",
              "      <td>1980-03-17</td>\n",
              "      <td>9.812100e-06</td>\n",
              "      <td>DCI</td>\n",
              "      <td>2021-12-27</td>\n",
              "      <td>57.939999</td>\n",
              "      <td>15261</td>\n",
              "      <td>3.869310e+02</td>\n",
              "    </tr>\n",
              "    <tr>\n",
              "      <th>14</th>\n",
              "      <td>1987-06-26</td>\n",
              "      <td>2.857077e-05</td>\n",
              "      <td>TJX</td>\n",
              "      <td>2021-12-27</td>\n",
              "      <td>74.290001</td>\n",
              "      <td>12604</td>\n",
              "      <td>2.063004e+02</td>\n",
              "    </tr>\n",
              "    <tr>\n",
              "      <th>15</th>\n",
              "      <td>1980-03-17</td>\n",
              "      <td>4.768529e-04</td>\n",
              "      <td>WTRG</td>\n",
              "      <td>2021-12-27</td>\n",
              "      <td>52.549999</td>\n",
              "      <td>15261</td>\n",
              "      <td>7.221132e+00</td>\n",
              "    </tr>\n",
              "    <tr>\n",
              "      <th>16</th>\n",
              "      <td>1980-03-17</td>\n",
              "      <td>1.051490e-03</td>\n",
              "      <td>TTC</td>\n",
              "      <td>2021-12-27</td>\n",
              "      <td>99.879997</td>\n",
              "      <td>15261</td>\n",
              "      <td>6.224300e+00</td>\n",
              "    </tr>\n",
              "    <tr>\n",
              "      <th>17</th>\n",
              "      <td>1973-05-03</td>\n",
              "      <td>7.828808e-04</td>\n",
              "      <td>USB</td>\n",
              "      <td>2021-12-27</td>\n",
              "      <td>56.740002</td>\n",
              "      <td>17771</td>\n",
              "      <td>4.078325e+00</td>\n",
              "    </tr>\n",
              "    <tr>\n",
              "      <th>18</th>\n",
              "      <td>1966-07-05</td>\n",
              "      <td>3.923203e-03</td>\n",
              "      <td>MCD</td>\n",
              "      <td>2021-12-27</td>\n",
              "      <td>268.239990</td>\n",
              "      <td>20265</td>\n",
              "      <td>3.373931e+00</td>\n",
              "    </tr>\n",
              "    <tr>\n",
              "      <th>19</th>\n",
              "      <td>1987-09-16</td>\n",
              "      <td>3.345692e-03</td>\n",
              "      <td>PII</td>\n",
              "      <td>2021-12-27</td>\n",
              "      <td>107.000000</td>\n",
              "      <td>12522</td>\n",
              "      <td>2.554019e+00</td>\n",
              "    </tr>\n",
              "  </tbody>\n",
              "</table>\n",
              "</div>"
            ]
          },
          "metadata": {},
          "execution_count": 72
        }
      ]
    },
    {
      "cell_type": "code",
      "source": [
        "from numpy import inf\n",
        "i = int(0)\n",
        "print(\"The top 20 stock symbols are (ignoring stocks that have adj_close = 0 on earliest date): \")\n",
        "for ind in result.index:\n",
        "    if(result['return'][ind] != inf):\n",
        "      print(str(i+1) + \" \" + result['symbol'][ind])\n",
        "      i = i+1\n",
        "    if i == 20:\n",
        "      break"
      ],
      "metadata": {
        "colab": {
          "base_uri": "https://localhost:8080/"
        },
        "id": "6tYPOzokA7y6",
        "outputId": "82c0601e-8e19-46e0-cb5a-c47794b556b2"
      },
      "execution_count": 73,
      "outputs": [
        {
          "output_type": "stream",
          "name": "stdout",
          "text": [
            "The top 20 stock symbols are (ignoring stocks that have adj_close = 0 on earliest date): \n",
            "1 NVO\n",
            "2 NKE\n",
            "3 DCI\n",
            "4 TJX\n",
            "5 WTRG\n",
            "6 TTC\n",
            "7 USB\n",
            "8 MCD\n",
            "9 PII\n",
            "10 HD\n",
            "11 TBSAW\n",
            "12 NHIC\n",
            "13 PAQCW\n",
            "14 TRKAW\n",
            "15 NLITW\n",
            "16 APACW\n",
            "17 RICOW\n",
            "18 HYMCW\n",
            "19 ELMSW\n",
            "20 TRITW\n"
          ]
        }
      ]
    },
    {
      "cell_type": "code",
      "source": [
        "t2 = time.perf_counter()\n",
        "print('Total Time taken to run:',t2-t1)"
      ],
      "metadata": {
        "id": "WyAbA1jBIRhe",
        "outputId": "d06190ba-01ca-4748-d2e3-9fa18b7278ea",
        "colab": {
          "base_uri": "https://localhost:8080/"
        }
      },
      "execution_count": 74,
      "outputs": [
        {
          "output_type": "stream",
          "name": "stdout",
          "text": [
            "Total Time taken to run: 63.8553392419999\n"
          ]
        }
      ]
    },
    {
      "cell_type": "code",
      "source": [
        "#Question 3: Create a copy of this notebook called assignment-aws and follow the instructions in readme to run the notebook on AWS compute instance.\n",
        "# Compare performance of running natively on colab and colab+AWS\n",
        "\"\"\" \n",
        "Total time taken on Google Colab (without AWS) = 65.56363778499986 seconds \n",
        "\n",
        "Total time taken on Colab (with AWS) = 52.512104175000104 seconds\n",
        "\n",
        "Obeservation: It can be concluded that the amount of time taken on the free teir of colab is considerably longer as compared \n",
        "              to that using colab+AWS as seen in the above two results. Two key areas where standalone colab is slow are \n",
        "              sorting of huge amount of data and downloading of the stock.parquet file using wget command. \n",
        "\n",
        "              Another key observation is that when executing the code of the bonus question, google colab runs out of memory and\n",
        "              due to which the entire file does not execute. However, this is not the case with colab+AWS where the all lines of code execte \n",
        "              and the time taken is 68.228999123 seconds for the entire file. \n",
        "\"\"\""
      ],
      "metadata": {
        "id": "c1jLuH32dDhR",
        "colab": {
          "base_uri": "https://localhost:8080/"
        },
        "outputId": "c076f8b4-0aaa-48a1-fd24-f89248966aa6"
      },
      "execution_count": 75,
      "outputs": [
        {
          "output_type": "execute_result",
          "data": {
            "text/plain": [
              "' \\nTotal time taken on Google Colab (without AWS) = 65.56363778499986 seconds \\n\\nTotal time taken on Colab (with AWS) = 52.512104175000104 seconds\\n\\nObeservation: It can be concluded that the amount of time taken on the free teir of colab is considerably longer as compared \\n              to that using colab+AWS as seen in the above two results. Two key areas where standalone colab is slow are \\n              sorting of huge amount of data and downloading of the stock.parquet file using wget command. \\n\\n              Another key observation is that when executing the code of the bonus question, google colab runs out of memory and\\n              due to which the entire file does not execute. However, this is not the case with colab+AWS where the all lines of code execte \\n              and the time taken is 68.228999123 seconds for the entire file. \\n'"
            ]
          },
          "metadata": {},
          "execution_count": 75
        }
      ]
    }
  ]
}